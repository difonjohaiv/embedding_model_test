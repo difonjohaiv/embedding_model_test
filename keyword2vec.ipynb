{
 "cells": [
  {
   "cell_type": "code",
   "execution_count": 13,
   "metadata": {},
   "outputs": [],
   "source": [
    "import pandas as pd\n",
    "import torch\n",
    "from utils import get_embedding"
   ]
  },
  {
   "cell_type": "code",
   "execution_count": 2,
   "metadata": {},
   "outputs": [],
   "source": [
    "fn = \"thucnews/thucnews.csv\"\n",
    "df = pd.read_csv(fn)"
   ]
  },
  {
   "cell_type": "code",
   "execution_count": 6,
   "metadata": {},
   "outputs": [],
   "source": [
    "df = df.drop(columns=['Unnamed: 0'])"
   ]
  },
  {
   "cell_type": "code",
   "execution_count": 10,
   "metadata": {},
   "outputs": [
    {
     "data": {
      "text/plain": [
       "0       逆戟鲸#浅滩#攻击#捕食#活动#研究#巴塔哥尼亚#拍摄#种类#摄影师\n",
       "1            小车#银色#女子#看到#现场#丈夫#追尾#赌气#检查#记者\n",
       "2         中国#家居#上市#公司#长河#美国#合资#集团#房产信息#城外诚\n",
       "3        成像#图像#血管#技术#弥散#神经细胞#水分子#人员#大脑#主动脉\n",
       "4         问题#调查#工作人员#政府#股东#部门#有没有#有关#建设#背景\n",
       "                       ...                \n",
       "3158         火箭#交易#球员#支持#没有#选择#重返#决定#回到#对待\n",
       "3159         电影#中国#全国#达到#电视#中心#影片#发展#市场#票房\n",
       "3160         回声#男孩#蝙蝠#攀岩#舌头#美国#虚拟#行走#行人#不会\n",
       "3161         气泡#泡泡#彩色#颜料#发明#染料#美国#食用#基欧#杂志\n",
       "3162       星际#职业#时候#比赛#认为#队伍#选手#星际争霸#对手#看到\n",
       "Name: keyword, Length: 3163, dtype: object"
      ]
     },
     "execution_count": 10,
     "metadata": {},
     "output_type": "execute_result"
    }
   ],
   "source": [
    "kws = df['keyword']\n",
    "kws"
   ]
  },
  {
   "cell_type": "code",
   "execution_count": 11,
   "metadata": {},
   "outputs": [],
   "source": [
    "# 分割成10个kw\n",
    "def get_each_keyword(x):\n",
    "    x_list = x.split(\"#\")\n",
    "    return x_list"
   ]
  },
  {
   "cell_type": "code",
   "execution_count": 14,
   "metadata": {},
   "outputs": [
    {
     "name": "stderr",
     "output_type": "stream",
     "text": [
      "h:\\Anaconda\\envs\\embed\\lib\\site-packages\\tqdm\\auto.py:21: TqdmWarning: IProgress not found. Please update jupyter and ipywidgets. See https://ipywidgets.readthedocs.io/en/stable/user_install.html\n",
      "  from .autonotebook import tqdm as notebook_tqdm\n"
     ]
    }
   ],
   "source": [
    "# 分别对每个新闻选取出来的10个关键字进行嵌入编码\n",
    "embedding = get_embedding()\n",
    "def embed_keyword(x):\n",
    "    x_embeddings = torch.zeros(10, 768)\n",
    "    i = 0\n",
    "    for item in x:\n",
    "        kw_embedding = torch.tensor(embedding.embed_query(item), dtype=float)\n",
    "        x_embeddings[i, :] = kw_embedding\n",
    "        i = i + 1\n",
    "    return x_embeddings"
   ]
  },
  {
   "cell_type": "code",
   "execution_count": null,
   "metadata": {},
   "outputs": [],
   "source": [
    "# 把每个新闻的关键字嵌入保存到列表中\n",
    "with torch.no_grad():\n",
    "    kw_embedding_list = []\n",
    "    for item in kws:\n",
    "        kw_list = get_each_keyword(item)\n",
    "        kw_embedding_list.append(embed_keyword(kw_list))\n",
    "    print(len(kw_embedding_list))"
   ]
  }
 ],
 "metadata": {
  "kernelspec": {
   "display_name": "embed",
   "language": "python",
   "name": "python3"
  },
  "language_info": {
   "codemirror_mode": {
    "name": "ipython",
    "version": 3
   },
   "file_extension": ".py",
   "mimetype": "text/x-python",
   "name": "python",
   "nbconvert_exporter": "python",
   "pygments_lexer": "ipython3",
   "version": "3.8.1"
  },
  "orig_nbformat": 4
 },
 "nbformat": 4,
 "nbformat_minor": 2
}
