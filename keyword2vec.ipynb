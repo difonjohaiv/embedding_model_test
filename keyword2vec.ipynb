{
 "cells": [
  {
   "cell_type": "code",
   "execution_count": null,
   "metadata": {},
   "outputs": [],
   "source": [
    "import pandas as pd\n",
    "import torch\n",
    "from utils import get_embedding\n",
    "from tqdm import tqdm\n",
    "from sklearn.metrics.pairwise import cosine_similarity\n",
    "import pickle\n",
    "import numpy as np"
   ]
  },
  {
   "cell_type": "code",
   "execution_count": null,
   "metadata": {},
   "outputs": [],
   "source": [
    "fn = \"thucnews/thucnews.csv\"\n",
    "df = pd.read_csv(fn)\n",
    "df.columns"
   ]
  },
  {
   "cell_type": "code",
   "execution_count": null,
   "metadata": {},
   "outputs": [],
   "source": [
    "kws = df['keyword']\n",
    "kws"
   ]
  },
  {
   "cell_type": "code",
   "execution_count": null,
   "metadata": {},
   "outputs": [],
   "source": [
    "# 分割成10个kw\n",
    "def get_each_keyword(x):\n",
    "    x_list = x.split(\"#\")\n",
    "    return x_list"
   ]
  },
  {
   "cell_type": "code",
   "execution_count": null,
   "metadata": {},
   "outputs": [],
   "source": [
    "# 分别对每个新闻选取出来的10个关键字进行嵌入编码\n",
    "embedding = get_embedding()\n",
    "def embed_keyword(x):\n",
    "    x_embeddings = torch.zeros(10, 1024)\n",
    "    i = 0\n",
    "    for item in x:\n",
    "        kw_embedding = torch.tensor(embedding.embed_query(item), dtype=float)\n",
    "        x_embeddings[i, :] = kw_embedding\n",
    "        i = i + 1\n",
    "    return x_embeddings"
   ]
  },
  {
   "cell_type": "code",
   "execution_count": null,
   "metadata": {},
   "outputs": [],
   "source": [
    "# 把每个新闻的关键字嵌入保存到列表中\n",
    "with torch.no_grad():\n",
    "    kw_embedding_list = []\n",
    "    for item in tqdm(kws):\n",
    "        kw_list = get_each_keyword(item)\n",
    "        kw_embedding_list.append(embed_keyword(kw_list))\n",
    "    print(len(kw_embedding_list))"
   ]
  },
  {
   "cell_type": "code",
   "execution_count": null,
   "metadata": {},
   "outputs": [],
   "source": [
    "with open(\"thucnews/t2v_large/pkl/keyword_embeddings_large.pickle\", \"wb\") as file:\n",
    "    pickle.dump(obj=kw_embedding_list, file=file)"
   ]
  },
  {
   "cell_type": "code",
   "execution_count": null,
   "metadata": {},
   "outputs": [],
   "source": [
    "# with open(\"thucnews/views/pkl/keyword_embeddings.pickle\", \"wb\") as file:\n",
    "#     pickle.dump(kw_embedding_list, file=file)"
   ]
  },
  {
   "cell_type": "code",
   "execution_count": null,
   "metadata": {},
   "outputs": [],
   "source": []
  }
 ],
 "metadata": {
  "kernelspec": {
   "display_name": "embed",
   "language": "python",
   "name": "python3"
  },
  "language_info": {
   "codemirror_mode": {
    "name": "ipython",
    "version": 3
   },
   "file_extension": ".py",
   "mimetype": "text/x-python",
   "name": "python",
   "nbconvert_exporter": "python",
   "pygments_lexer": "ipython3",
   "version": "3.8.1"
  },
  "orig_nbformat": 4
 },
 "nbformat": 4,
 "nbformat_minor": 2
}
