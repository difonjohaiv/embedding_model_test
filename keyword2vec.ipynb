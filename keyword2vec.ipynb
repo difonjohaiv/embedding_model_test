{
 "cells": [
  {
   "cell_type": "code",
   "execution_count": 1,
   "metadata": {},
   "outputs": [],
   "source": [
    "import pandas as pd\n",
    "import torch\n",
    "from utils import get_embedding\n",
    "from tqdm import tqdm\n",
    "from sklearn.metrics.pairwise import cosine_similarity\n",
    "import pickle\n",
    "import numpy as np"
   ]
  },
  {
   "cell_type": "code",
   "execution_count": null,
   "metadata": {},
   "outputs": [],
   "source": [
    "fn = \"thucnews/thucnews.csv\"\n",
    "df = pd.read_csv(fn)"
   ]
  },
  {
   "cell_type": "code",
   "execution_count": null,
   "metadata": {},
   "outputs": [],
   "source": [
    "df = df.drop(columns=['Unnamed: 0'])"
   ]
  },
  {
   "cell_type": "code",
   "execution_count": null,
   "metadata": {},
   "outputs": [],
   "source": [
    "kws = df['keyword']\n",
    "kws"
   ]
  },
  {
   "cell_type": "code",
   "execution_count": null,
   "metadata": {},
   "outputs": [],
   "source": [
    "# 分割成10个kw\n",
    "def get_each_keyword(x):\n",
    "    x_list = x.split(\"#\")\n",
    "    return x_list"
   ]
  },
  {
   "cell_type": "code",
   "execution_count": null,
   "metadata": {},
   "outputs": [],
   "source": [
    "# 分别对每个新闻选取出来的10个关键字进行嵌入编码\n",
    "embedding = get_embedding()\n",
    "def embed_keyword(x):\n",
    "    x_embeddings = torch.zeros(10, 768)\n",
    "    i = 0\n",
    "    for item in x:\n",
    "        kw_embedding = torch.tensor(embedding.embed_query(item), dtype=float)\n",
    "        x_embeddings[i, :] = kw_embedding\n",
    "        i = i + 1\n",
    "    return x_embeddings"
   ]
  },
  {
   "cell_type": "code",
   "execution_count": null,
   "metadata": {},
   "outputs": [],
   "source": [
    "# 把每个新闻的关键字嵌入保存到列表中\n",
    "with torch.no_grad():\n",
    "    kw_embedding_list = []\n",
    "    for item in tqdm(kws):\n",
    "        kw_list = get_each_keyword(item)\n",
    "        kw_embedding_list.append(embed_keyword(kw_list))\n",
    "    print(len(kw_embedding_list))"
   ]
  },
  {
   "cell_type": "code",
   "execution_count": null,
   "metadata": {},
   "outputs": [],
   "source": [
    "# with open(\"thucnews/views/pkl/keyword_embeddings.pickle\", \"wb\") as file:\n",
    "#     pickle.dump(kw_embedding_list, file=file)"
   ]
  },
  {
   "cell_type": "code",
   "execution_count": 2,
   "metadata": {},
   "outputs": [],
   "source": [
    "save_path = \"thucnews/views/keyword_views.csv\""
   ]
  },
  {
   "cell_type": "code",
   "execution_count": null,
   "metadata": {},
   "outputs": [],
   "source": [
    "# 屎一样的代码 shit_code\n",
    "# for i in range(len(kw_embedding_list)):\n",
    "#     for j in range(len(kw_embedding_list)):\n",
    "#         news_01 = kw_embedding_list[i]\n",
    "#         news_02 = kw_embedding_list[j]\n",
    "#         score = cosine_similarity(news_01, news_02)\n",
    "#         sum = np.sum(score[score>0.6])\n",
    "#         if sum >= 1.8:\n",
    "#             print(f\"新闻{i}新闻{j}相似,起码有4个事件对相似\")    \n",
    "#             new_row_data = {'start': i, 'end': j, 'scores': sum}\n",
    "#             new_row = pd.DataFrame(new_row_data, index=[0])\n",
    "#             kw_df = pd.concat([kw_df, new_row], ignore_index=True)\n",
    "#         else:\n",
    "#             print(f\"新闻{i}新闻{j}不相似,Nono!!!!!\")\n",
    "# kw_df.to_csv(save_path, sep=\" \", header=False, index=False)"
   ]
  },
  {
   "cell_type": "code",
   "execution_count": null,
   "metadata": {},
   "outputs": [],
   "source": [
    "s = cosine_similarity(kw_embedding_list[50], kw_embedding_list[65])"
   ]
  },
  {
   "cell_type": "code",
   "execution_count": 3,
   "metadata": {},
   "outputs": [
    {
     "data": {
      "text/plain": [
       "(3498521, 3)"
      ]
     },
     "execution_count": 3,
     "metadata": {},
     "output_type": "execute_result"
    }
   ],
   "source": [
    "df = pd.read_csv(save_path)\n",
    "df.shape"
   ]
  },
  {
   "cell_type": "code",
   "execution_count": 5,
   "metadata": {},
   "outputs": [],
   "source": [
    "df.to_csv(save_path, sep=\" \", header=False, index=False)"
   ]
  },
  {
   "cell_type": "code",
   "execution_count": null,
   "metadata": {},
   "outputs": [],
   "source": []
  }
 ],
 "metadata": {
  "kernelspec": {
   "display_name": "embed",
   "language": "python",
   "name": "python3"
  },
  "language_info": {
   "codemirror_mode": {
    "name": "ipython",
    "version": 3
   },
   "file_extension": ".py",
   "mimetype": "text/x-python",
   "name": "python",
   "nbconvert_exporter": "python",
   "pygments_lexer": "ipython3",
   "version": "3.8.1"
  },
  "orig_nbformat": 4
 },
 "nbformat": 4,
 "nbformat_minor": 2
}
