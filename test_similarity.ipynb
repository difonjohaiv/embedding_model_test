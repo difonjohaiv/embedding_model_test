{
 "cells": [
  {
   "cell_type": "code",
   "execution_count": 1,
   "metadata": {},
   "outputs": [],
   "source": [
    "import pandas as pd\n",
    "from utils import get_embedding\n",
    "import torch\n",
    "from utils import get_simfunc"
   ]
  },
  {
   "cell_type": "code",
   "execution_count": null,
   "metadata": {},
   "outputs": [],
   "source": [
    "fn = \"thucnews/thucnews.csv\"\n",
    "df = pd.read_csv(fn)"
   ]
  },
  {
   "cell_type": "code",
   "execution_count": null,
   "metadata": {},
   "outputs": [],
   "source": [
    "df['entity']"
   ]
  },
  {
   "cell_type": "code",
   "execution_count": null,
   "metadata": {},
   "outputs": [],
   "source": [
    "en1 = df['entity'][2]\n",
    "en2 = df['entity'][4]"
   ]
  },
  {
   "cell_type": "code",
   "execution_count": null,
   "metadata": {},
   "outputs": [],
   "source": [
    "en1"
   ]
  },
  {
   "cell_type": "code",
   "execution_count": null,
   "metadata": {},
   "outputs": [],
   "source": [
    "en2"
   ]
  },
  {
   "cell_type": "code",
   "execution_count": 30,
   "metadata": {},
   "outputs": [
    {
     "data": {
      "text/plain": [
       "['北京市市场协会',\n",
       " '朝阳区商业联合会',\n",
       " '易居合资公司',\n",
       " '华网',\n",
       " '乐居',\n",
       " '丁祖昱',\n",
       " '北京市商业联合会',\n",
       " '曹国伟',\n",
       " '美国',\n",
       " '中国',\n",
       " '中国房产信息集团',\n",
       " '北京',\n",
       " '易居中国',\n",
       " '城外诚',\n",
       " '谢娟',\n",
       " 'CRIC',\n",
       " '罗军',\n",
       " '纳斯达克',\n",
       " '刘长河',\n",
       " '周忻']"
      ]
     },
     "execution_count": 30,
     "metadata": {},
     "output_type": "execute_result"
    }
   ],
   "source": [
    "en1_list = en1.split(\"\\\\\")\n",
    "en1_list"
   ]
  },
  {
   "cell_type": "code",
   "execution_count": 31,
   "metadata": {},
   "outputs": [
    {
     "data": {
      "text/plain": [
       "['张锦粱', '上海市', '梅陇镇征地事务所', '闵行区', '阙敬德', '莲花河畔景苑', '上海', '梅都房地产', '资产公司']"
      ]
     },
     "execution_count": 31,
     "metadata": {},
     "output_type": "execute_result"
    }
   ],
   "source": [
    "en2_list = en2.split(\"\\\\\")\n",
    "en2_list"
   ]
  },
  {
   "cell_type": "code",
   "execution_count": 3,
   "metadata": {},
   "outputs": [
    {
     "name": "stdout",
     "output_type": "stream",
     "text": [
      "获取的嵌入模型是: text2vec-base\n"
     ]
    }
   ],
   "source": [
    "embedding = get_embedding()\n",
    "simfunc = get_simfunc()"
   ]
  },
  {
   "cell_type": "code",
   "execution_count": null,
   "metadata": {},
   "outputs": [],
   "source": [
    "en1_embed = torch.zeros(768)\n",
    "for item in en1_list:\n",
    "    en1_embed = en1_embed + torch.tensor(embedding.embed_query(item), dtype=float)"
   ]
  },
  {
   "cell_type": "code",
   "execution_count": null,
   "metadata": {},
   "outputs": [],
   "source": [
    "en2_embed = torch.zeros(768)\n",
    "for item in en2_list:\n",
    "    en2_embed = en2_embed + torch.tensor(embedding.embed_query(item), dtype=float)"
   ]
  },
  {
   "cell_type": "code",
   "execution_count": 29,
   "metadata": {},
   "outputs": [
    {
     "data": {
      "text/plain": [
       "tensor(0.8654, dtype=torch.float64)"
      ]
     },
     "execution_count": 29,
     "metadata": {},
     "output_type": "execute_result"
    }
   ],
   "source": [
    "simfunc = get_simfunc()\n",
    "s = simfunc(en1_embed, en2_embed)\n",
    "s"
   ]
  },
  {
   "cell_type": "code",
   "execution_count": 38,
   "metadata": {},
   "outputs": [
    {
     "data": {
      "text/plain": [
       "tensor(0.5334, dtype=torch.float64)"
      ]
     },
     "execution_count": 38,
     "metadata": {},
     "output_type": "execute_result"
    }
   ],
   "source": [
    "s1 = simfunc(torch.tensor(embedding.embed_query(df['title'][2]), dtype=float), torch.tensor(embedding.embed_query(df['title'][4]), dtype=float))\n",
    "s1"
   ]
  },
  {
   "cell_type": "code",
   "execution_count": 34,
   "metadata": {},
   "outputs": [],
   "source": [
    "en1_embed = en1_embed + torch.tensor(embedding.embed_query(df['title'][2]), dtype=float)\n",
    "en2_embed = en2_embed + torch.tensor(embedding.embed_query(df['title'][4]), dtype=float)"
   ]
  },
  {
   "cell_type": "code",
   "execution_count": 35,
   "metadata": {},
   "outputs": [
    {
     "data": {
      "text/plain": [
       "tensor(0.8756, dtype=torch.float64)"
      ]
     },
     "execution_count": 35,
     "metadata": {},
     "output_type": "execute_result"
    }
   ],
   "source": [
    "s = simfunc(en1_embed, en2_embed)\n",
    "s"
   ]
  },
  {
   "cell_type": "code",
   "execution_count": 4,
   "metadata": {},
   "outputs": [
    {
     "data": {
      "text/plain": [
       "tensor(0.7780, dtype=torch.float64)"
      ]
     },
     "execution_count": 4,
     "metadata": {},
     "output_type": "execute_result"
    }
   ],
   "source": [
    "x1 = \"粤语\"\n",
    "x2 = \"广东话\"\n",
    "s = simfunc(torch.tensor(embedding.embed_query(x1), dtype=float), torch.tensor(embedding.embed_query(x2), dtype=float))\n",
    "s"
   ]
  },
  {
   "cell_type": "code",
   "execution_count": null,
   "metadata": {},
   "outputs": [],
   "source": []
  }
 ],
 "metadata": {
  "kernelspec": {
   "display_name": "embed",
   "language": "python",
   "name": "python3"
  },
  "language_info": {
   "codemirror_mode": {
    "name": "ipython",
    "version": 3
   },
   "file_extension": ".py",
   "mimetype": "text/x-python",
   "name": "python",
   "nbconvert_exporter": "python",
   "pygments_lexer": "ipython3",
   "version": "3.8.1"
  },
  "orig_nbformat": 4
 },
 "nbformat": 4,
 "nbformat_minor": 2
}
