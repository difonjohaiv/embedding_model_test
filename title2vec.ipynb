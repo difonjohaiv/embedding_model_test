{
 "cells": [
  {
   "cell_type": "code",
   "execution_count": 1,
   "metadata": {},
   "outputs": [],
   "source": [
    "import torch\n",
    "from utils import get_embedding\n",
    "import pandas as pd\n",
    "from tqdm import tqdm\n",
    "import pickle\n",
    "from sklearn.metrics.pairwise import cosine_similarity\n",
    "import numpy as np\n",
    "import csv"
   ]
  },
  {
   "cell_type": "code",
   "execution_count": 2,
   "metadata": {},
   "outputs": [],
   "source": [
    "# embedding = get_embedding()"
   ]
  },
  {
   "cell_type": "code",
   "execution_count": 3,
   "metadata": {},
   "outputs": [],
   "source": [
    "# fn = \"thucnews/thucnews.csv\"\n",
    "# df = pd.read_csv(fn)\n",
    "# df.shape"
   ]
  },
  {
   "cell_type": "code",
   "execution_count": 4,
   "metadata": {},
   "outputs": [],
   "source": [
    "# title_embeddings = torch.zeros(df.shape[0], 1024)\n",
    "# title_embeddings.shape"
   ]
  },
  {
   "cell_type": "code",
   "execution_count": 5,
   "metadata": {},
   "outputs": [],
   "source": [
    "# titles = df['title']\n",
    "# with torch.no_grad():\n",
    "#     i = 0\n",
    "#     for title in tqdm(titles):\n",
    "#         t_em = torch.tensor(embedding.embed_query(title), dtype=float)\n",
    "#         title_embeddings[i, :] = t_em\n",
    "#         i = i + 1\n",
    "#     print(i)"
   ]
  },
  {
   "cell_type": "code",
   "execution_count": 6,
   "metadata": {},
   "outputs": [],
   "source": [
    "# with open(\"thucnews/t2v_large/pkl/title_embeddings_large.pickle\", \"wb\") as file:\n",
    "#     pickle.dump(obj=title_embeddings, file=file)"
   ]
  },
  {
   "cell_type": "code",
   "execution_count": 7,
   "metadata": {},
   "outputs": [],
   "source": [
    "with open(\"thucnews/t2v_large/pkl/title_embeddings_large.pickle\", \"rb\") as file:\n",
    "    title_embeddings = pickle.load(file)"
   ]
  },
  {
   "cell_type": "code",
   "execution_count": 8,
   "metadata": {},
   "outputs": [
    {
     "data": {
      "text/plain": [
       "torch.Size([3163, 1024])"
      ]
     },
     "execution_count": 8,
     "metadata": {},
     "output_type": "execute_result"
    }
   ],
   "source": [
    "title_embeddings.shape"
   ]
  },
  {
   "cell_type": "code",
   "execution_count": 9,
   "metadata": {},
   "outputs": [],
   "source": [
    "score = cosine_similarity(title_embeddings, title_embeddings)"
   ]
  },
  {
   "cell_type": "code",
   "execution_count": 15,
   "metadata": {},
   "outputs": [
    {
     "name": "stdout",
     "output_type": "stream",
     "text": [
      "percentage:  0.00036213454072834124\n",
      "np.sum(score >= threshold): 3623\n"
     ]
    }
   ],
   "source": [
    "threshold = 0.7\n",
    "percentage = np.sum(score > threshold ) / (score.size)\n",
    "print(\"percentage: \", percentage)\n",
    "print(\"np.sum(score >= threshold):\", np.sum(score >= threshold))\n",
    "score[score < threshold] = 0\n",
    "np.fill_diagonal(score, 1.0)"
   ]
  },
  {
   "cell_type": "code",
   "execution_count": 16,
   "metadata": {},
   "outputs": [
    {
     "name": "stderr",
     "output_type": "stream",
     "text": [
      "100%|██████████| 3163/3163 [00:10<00:00, 299.95it/s]\n"
     ]
    }
   ],
   "source": [
    "save_path = f\"thucnews/t2v_large/thucnews_title_{threshold}.csv\"\n",
    "# 打开CSV文件\n",
    "with open(save_path, 'w', newline='') as csvfile:\n",
    "    writer = csv.writer(csvfile)\n",
    "    # 写入表头\n",
    "    writer.writerow(['Row', 'Column', 'Value'])\n",
    "\n",
    "    # 遍历数组并写入CSV文件\n",
    "    for i in tqdm(range(score.shape[0])):\n",
    "        for j in range(score.shape[1]):\n",
    "            if score[i][j] > 0:\n",
    "                writer.writerow([i, j, score[i, j]])"
   ]
  },
  {
   "cell_type": "code",
   "execution_count": 17,
   "metadata": {},
   "outputs": [
    {
     "data": {
      "text/plain": [
       "(3623, 3)"
      ]
     },
     "execution_count": 17,
     "metadata": {},
     "output_type": "execute_result"
    }
   ],
   "source": [
    "df = pd.read_csv(save_path)\n",
    "df.shape"
   ]
  },
  {
   "cell_type": "code",
   "execution_count": 18,
   "metadata": {},
   "outputs": [
    {
     "data": {
      "text/plain": [
       "Index(['Row', 'Column', 'Value'], dtype='object')"
      ]
     },
     "execution_count": 18,
     "metadata": {},
     "output_type": "execute_result"
    }
   ],
   "source": [
    "df.columns"
   ]
  },
  {
   "cell_type": "code",
   "execution_count": 19,
   "metadata": {},
   "outputs": [],
   "source": [
    "df.to_csv(save_path, sep=\" \", header=False, index=False)"
   ]
  },
  {
   "cell_type": "code",
   "execution_count": null,
   "metadata": {},
   "outputs": [],
   "source": []
  }
 ],
 "metadata": {
  "kernelspec": {
   "display_name": "embed",
   "language": "python",
   "name": "python3"
  },
  "language_info": {
   "codemirror_mode": {
    "name": "ipython",
    "version": 3
   },
   "file_extension": ".py",
   "mimetype": "text/x-python",
   "name": "python",
   "nbconvert_exporter": "python",
   "pygments_lexer": "ipython3",
   "version": "3.8.1"
  },
  "orig_nbformat": 4
 },
 "nbformat": 4,
 "nbformat_minor": 2
}
