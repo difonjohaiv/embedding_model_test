{
 "cells": [
  {
   "cell_type": "code",
   "execution_count": 1,
   "metadata": {},
   "outputs": [],
   "source": [
    "import torch\n",
    "from utils import get_embedding\n",
    "import pandas as pd\n",
    "from tqdm import tqdm\n",
    "import pickle\n",
    "from sklearn.metrics.pairwise import cosine_similarity\n",
    "import numpy as np\n",
    "import csv"
   ]
  },
  {
   "attachments": {},
   "cell_type": "markdown",
   "metadata": {},
   "source": [
    "# 这个文件2个作用\n",
    "## 1. 前半部分是用来获取embedding模型,然后对每个标题获取嵌入\n",
    "## 2. 后半部分是针对每个标题的嵌入,计算两两余弦相似度.选取threshold,构建邻接矩阵,保存到csv文件中"
   ]
  },
  {
   "cell_type": "code",
   "execution_count": 7,
   "metadata": {},
   "outputs": [
    {
     "name": "stdout",
     "output_type": "stream",
     "text": [
      "获取的嵌入模型是: bge-large\n"
     ]
    }
   ],
   "source": [
    "# embedding = get_embedding(model_name=\"bge-large\")"
   ]
  },
  {
   "cell_type": "code",
   "execution_count": 8,
   "metadata": {},
   "outputs": [
    {
     "data": {
      "text/plain": [
       "(3163, 10)"
      ]
     },
     "execution_count": 8,
     "metadata": {},
     "output_type": "execute_result"
    }
   ],
   "source": [
    "# fn = \"thucnews/thucnews.csv\"\n",
    "# df = pd.read_csv(fn)\n",
    "# df.shape"
   ]
  },
  {
   "cell_type": "code",
   "execution_count": 9,
   "metadata": {},
   "outputs": [
    {
     "data": {
      "text/plain": [
       "torch.Size([3163, 1024])"
      ]
     },
     "execution_count": 9,
     "metadata": {},
     "output_type": "execute_result"
    }
   ],
   "source": [
    "# title_embeddings = torch.zeros(df.shape[0], 1024)\n",
    "# title_embeddings.shape"
   ]
  },
  {
   "cell_type": "code",
   "execution_count": 10,
   "metadata": {},
   "outputs": [
    {
     "name": "stderr",
     "output_type": "stream",
     "text": [
      "  0%|          | 0/3163 [00:00<?, ?it/s]"
     ]
    },
    {
     "name": "stderr",
     "output_type": "stream",
     "text": [
      "100%|██████████| 3163/3163 [08:36<00:00,  6.12it/s]"
     ]
    },
    {
     "name": "stdout",
     "output_type": "stream",
     "text": [
      "3163\n"
     ]
    },
    {
     "name": "stderr",
     "output_type": "stream",
     "text": [
      "\n"
     ]
    }
   ],
   "source": [
    "# titles = df['title']\n",
    "# with torch.no_grad():\n",
    "#     i = 0\n",
    "#     for title in tqdm(titles):\n",
    "#         t_em = torch.tensor(embedding.embed_query(title), dtype=float)\n",
    "#         title_embeddings[i, :] = t_em\n",
    "#         i = i + 1\n",
    "#     print(i)"
   ]
  },
  {
   "cell_type": "code",
   "execution_count": 11,
   "metadata": {},
   "outputs": [],
   "source": [
    "# with open(\"thucnews/bge_large/pkl/title_embeddings_bge_large.pickle\", \"wb\") as file:\n",
    "#     pickle.dump(obj=title_embeddings, file=file)"
   ]
  },
  {
   "attachments": {},
   "cell_type": "markdown",
   "metadata": {},
   "source": [
    "# -----------------------分割线-----------------------"
   ]
  },
  {
   "cell_type": "code",
   "execution_count": 64,
   "metadata": {},
   "outputs": [],
   "source": [
    "with open(\"thucnews/m3e_base/pkl/title_embeddings_m3e_base.pickle\", \"rb\") as file:\n",
    "    title_embeddings = pickle.load(file)"
   ]
  },
  {
   "cell_type": "code",
   "execution_count": 65,
   "metadata": {},
   "outputs": [
    {
     "data": {
      "text/plain": [
       "torch.Size([3163, 768])"
      ]
     },
     "execution_count": 65,
     "metadata": {},
     "output_type": "execute_result"
    }
   ],
   "source": [
    "title_embeddings.shape"
   ]
  },
  {
   "cell_type": "code",
   "execution_count": 66,
   "metadata": {},
   "outputs": [],
   "source": [
    "score = cosine_similarity(title_embeddings, title_embeddings)"
   ]
  },
  {
   "cell_type": "code",
   "execution_count": 88,
   "metadata": {},
   "outputs": [
    {
     "name": "stdout",
     "output_type": "stream",
     "text": [
      "percentage:  0.0006809888561916061\n",
      "np.sum(score >= threshold): 6813\n"
     ]
    }
   ],
   "source": [
    "score = cosine_similarity(title_embeddings, title_embeddings)\n",
    "threshold = 0.85\n",
    "percentage = np.sum(score > threshold ) / (score.size)\n",
    "print(\"percentage: \", percentage)\n",
    "print(\"np.sum(score >= threshold):\", np.sum(score >= threshold))\n",
    "score[score < threshold] = 0\n",
    "np.fill_diagonal(score, 1.0)"
   ]
  },
  {
   "cell_type": "code",
   "execution_count": 89,
   "metadata": {},
   "outputs": [
    {
     "name": "stderr",
     "output_type": "stream",
     "text": [
      "  0%|          | 0/3163 [00:00<?, ?it/s]"
     ]
    },
    {
     "name": "stderr",
     "output_type": "stream",
     "text": [
      "100%|██████████| 3163/3163 [00:10<00:00, 297.33it/s]\n"
     ]
    }
   ],
   "source": [
    "save_path = f\"thucnews/m3e_base/thucnews_title_{threshold}.csv\"\n",
    "# 打开CSV文件\n",
    "with open(save_path, 'w', newline='') as csvfile:\n",
    "    writer = csv.writer(csvfile)\n",
    "    # 写入表头\n",
    "    writer.writerow(['Row', 'Column', 'Value'])\n",
    "\n",
    "    # 遍历数组并写入CSV文件\n",
    "    for i in tqdm(range(score.shape[0])):\n",
    "        for j in range(score.shape[1]):\n",
    "            if score[i][j] > 0:\n",
    "                writer.writerow([i, j, score[i, j]])"
   ]
  },
  {
   "cell_type": "code",
   "execution_count": 90,
   "metadata": {},
   "outputs": [
    {
     "data": {
      "text/plain": [
       "(6813, 3)"
      ]
     },
     "execution_count": 90,
     "metadata": {},
     "output_type": "execute_result"
    }
   ],
   "source": [
    "df = pd.read_csv(save_path)\n",
    "df.shape"
   ]
  },
  {
   "cell_type": "code",
   "execution_count": 91,
   "metadata": {},
   "outputs": [
    {
     "data": {
      "text/plain": [
       "Index(['Row', 'Column', 'Value'], dtype='object')"
      ]
     },
     "execution_count": 91,
     "metadata": {},
     "output_type": "execute_result"
    }
   ],
   "source": [
    "df.columns"
   ]
  },
  {
   "cell_type": "code",
   "execution_count": 92,
   "metadata": {},
   "outputs": [],
   "source": [
    "df.to_csv(save_path, sep=\" \", header=False, index=False)"
   ]
  },
  {
   "cell_type": "code",
   "execution_count": null,
   "metadata": {},
   "outputs": [],
   "source": []
  }
 ],
 "metadata": {
  "kernelspec": {
   "display_name": "embed",
   "language": "python",
   "name": "python3"
  },
  "language_info": {
   "codemirror_mode": {
    "name": "ipython",
    "version": 3
   },
   "file_extension": ".py",
   "mimetype": "text/x-python",
   "name": "python",
   "nbconvert_exporter": "python",
   "pygments_lexer": "ipython3",
   "version": "3.8.1"
  },
  "orig_nbformat": 4
 },
 "nbformat": 4,
 "nbformat_minor": 2
}
