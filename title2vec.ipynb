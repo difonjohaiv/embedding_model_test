{
 "cells": [
  {
   "cell_type": "code",
   "execution_count": 18,
   "metadata": {},
   "outputs": [],
   "source": [
    "import torch\n",
    "from utils import get_embedding\n",
    "import pandas as pd\n",
    "from tqdm import tqdm\n",
    "import pickle\n",
    "from sklearn.metrics.pairwise import cosine_similarity\n",
    "import numpy as np\n",
    "import csv"
   ]
  },
  {
   "cell_type": "code",
   "execution_count": 13,
   "metadata": {},
   "outputs": [],
   "source": [
    "model_name = \"text2vec-base\""
   ]
  },
  {
   "cell_type": "code",
   "execution_count": 14,
   "metadata": {},
   "outputs": [],
   "source": [
    "embedding = get_embedding(model_name=model_name)"
   ]
  },
  {
   "cell_type": "code",
   "execution_count": 15,
   "metadata": {},
   "outputs": [],
   "source": [
    "t = \"刷美德：英国80后为何越来越传统\""
   ]
  },
  {
   "cell_type": "code",
   "execution_count": 19,
   "metadata": {},
   "outputs": [
    {
     "data": {
      "text/plain": [
       "(3163, 11)"
      ]
     },
     "execution_count": 19,
     "metadata": {},
     "output_type": "execute_result"
    }
   ],
   "source": [
    "fn = \"thucnews/thucnews.csv\"\n",
    "df = pd.read_csv(fn)\n",
    "df.shape"
   ]
  },
  {
   "cell_type": "code",
   "execution_count": 20,
   "metadata": {},
   "outputs": [
    {
     "data": {
      "text/plain": [
       "torch.Size([3163, 768])"
      ]
     },
     "execution_count": 20,
     "metadata": {},
     "output_type": "execute_result"
    }
   ],
   "source": [
    "title_embeddings = torch.zeros(df.shape[0], 768)\n",
    "title_embeddings.shape"
   ]
  },
  {
   "cell_type": "code",
   "execution_count": 23,
   "metadata": {},
   "outputs": [
    {
     "name": "stderr",
     "output_type": "stream",
     "text": [
      "100%|██████████| 3163/3163 [01:16<00:00, 41.51it/s]"
     ]
    },
    {
     "name": "stdout",
     "output_type": "stream",
     "text": [
      "3163\n"
     ]
    },
    {
     "name": "stderr",
     "output_type": "stream",
     "text": [
      "\n"
     ]
    }
   ],
   "source": [
    "titles = df['title']\n",
    "with torch.no_grad():\n",
    "    i = 0\n",
    "    for title in tqdm(titles):\n",
    "        t_em = torch.tensor(embedding.embed_query(title), dtype=float)\n",
    "        title_embeddings[i, :] = t_em\n",
    "        i = i + 1\n",
    "    print(i)"
   ]
  },
  {
   "cell_type": "code",
   "execution_count": 3,
   "metadata": {},
   "outputs": [],
   "source": [
    "with open(\"thucnews/views/pkl/title_embeddings.pickle\", \"rb\") as file:\n",
    "    title_embeddings = pickle.load(file)"
   ]
  },
  {
   "cell_type": "code",
   "execution_count": 4,
   "metadata": {},
   "outputs": [
    {
     "data": {
      "text/plain": [
       "torch.Size([3163, 768])"
      ]
     },
     "execution_count": 4,
     "metadata": {},
     "output_type": "execute_result"
    }
   ],
   "source": [
    "title_embeddings.shape"
   ]
  },
  {
   "cell_type": "code",
   "execution_count": 5,
   "metadata": {},
   "outputs": [],
   "source": [
    "score = cosine_similarity(title_embeddings, title_embeddings)"
   ]
  },
  {
   "cell_type": "code",
   "execution_count": 14,
   "metadata": {},
   "outputs": [
    {
     "data": {
      "text/plain": [
       "0.7443747951560932"
      ]
     },
     "execution_count": 14,
     "metadata": {},
     "output_type": "execute_result"
    }
   ],
   "source": [
    "percentage = np.sum(score > 0.26 ) / (score.size)\n",
    "percentage"
   ]
  },
  {
   "cell_type": "code",
   "execution_count": 12,
   "metadata": {},
   "outputs": [
    {
     "data": {
      "text/plain": [
       "array([[1.0000001 , 0.1604101 , 0.30740777, ..., 0.32357004, 0.19480887,\n",
       "        0.267757  ],\n",
       "       [0.1604101 , 1.0000001 , 0.11000511, ..., 0.17619243, 0.29722834,\n",
       "        0.20300844],\n",
       "       [0.30740777, 0.11000511, 1.0000002 , ..., 0.2870033 , 0.33224702,\n",
       "        0.3169097 ],\n",
       "       ...,\n",
       "       [0.32357007, 0.17619246, 0.28700334, ..., 0.9999999 , 0.27789873,\n",
       "        0.33564255],\n",
       "       [0.19480883, 0.29722837, 0.33224705, ..., 0.27789873, 1.        ,\n",
       "        0.25049067],\n",
       "       [0.26775697, 0.20300843, 0.31690958, ..., 0.33564252, 0.25049067,\n",
       "        1.0000001 ]], dtype=float32)"
      ]
     },
     "execution_count": 12,
     "metadata": {},
     "output_type": "execute_result"
    }
   ],
   "source": [
    "score"
   ]
  },
  {
   "cell_type": "code",
   "execution_count": 15,
   "metadata": {},
   "outputs": [],
   "source": [
    "score[score<=0.26] = 0"
   ]
  },
  {
   "cell_type": "code",
   "execution_count": 16,
   "metadata": {},
   "outputs": [],
   "source": [
    "np.fill_diagonal(score, 1.0)"
   ]
  },
  {
   "cell_type": "code",
   "execution_count": 17,
   "metadata": {},
   "outputs": [],
   "source": [
    "save_path = \"thucnews/views/title_views.csv\"\n",
    "# 打开CSV文件\n",
    "with open(save_path, 'w', newline='') as csvfile:\n",
    "    writer = csv.writer(csvfile)\n",
    "    # 写入表头\n",
    "    # writer.writerow(['Row', 'Column', 'Value'])\n",
    "\n",
    "    # 遍历数组并写入CSV文件\n",
    "    for i in tqdm(range(score.shape[0])):\n",
    "        for j in range(score.shape[1]):\n",
    "            if score[i][j] > 0:\n",
    "                writer.writerow([i, j, score[i, j]])"
   ]
  },
  {
   "cell_type": "code",
   "execution_count": null,
   "metadata": {},
   "outputs": [],
   "source": []
  }
 ],
 "metadata": {
  "kernelspec": {
   "display_name": "embed",
   "language": "python",
   "name": "python3"
  },
  "language_info": {
   "codemirror_mode": {
    "name": "ipython",
    "version": 3
   },
   "file_extension": ".py",
   "mimetype": "text/x-python",
   "name": "python",
   "nbconvert_exporter": "python",
   "pygments_lexer": "ipython3",
   "version": "3.8.1"
  },
  "orig_nbformat": 4
 },
 "nbformat": 4,
 "nbformat_minor": 2
}
