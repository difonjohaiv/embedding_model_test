{
 "cells": [
  {
   "cell_type": "code",
   "execution_count": null,
   "metadata": {},
   "outputs": [],
   "source": [
    "from huggingface_hub import snapshot_download"
   ]
  },
  {
   "cell_type": "code",
   "execution_count": null,
   "metadata": {},
   "outputs": [],
   "source": [
    "snapshot_download(repo_id=\"GanymedeNil/text2vec-large-chinese\")"
   ]
  },
  {
   "cell_type": "code",
   "execution_count": 4,
   "metadata": {},
   "outputs": [
    {
     "name": "stderr",
     "output_type": "stream",
     "text": [
      "Downloading (…)_Pooling/config.json: 100%|██████████| 74.0/74.0 [00:00<00:00, 24.6kB/s]\n",
      "Downloading (…)1812248/modules.json: 100%|██████████| 230/230 [00:00<00:00, 34.6kB/s]\n",
      "\n",
      "\n",
      "\u001b[A\u001b[A\n",
      "Downloading (…)c06b1812248/logs.txt: 100%|██████████| 546/546 [00:00<00:00, 33.7kB/s]\n",
      "Downloading (…)b1812248/config.json: 100%|██████████| 856/856 [00:00<00:00, 71.4kB/s]\n",
      "Downloading (…)12248/.gitattributes: 100%|██████████| 1.18k/1.18k [00:00<00:00, 152kB/s]\n",
      "Downloading (…)nce_bert_config.json: 100%|██████████| 54.0/54.0 [00:00<00:00, 11.9kB/s]\n",
      "Downloading (…)06b1812248/README.md: 100%|██████████| 10.1k/10.1k [00:00<00:00, 3.35MB/s]\n",
      "Downloading (…)cial_tokens_map.json: 100%|██████████| 112/112 [00:00<00:00, 26.2kB/s]\n",
      "\n",
      "Downloading (…)okenizer_config.json: 100%|██████████| 319/319 [00:00<00:00, 85.9kB/s]\n",
      "\n",
      "\u001b[A\n",
      "Downloading (…)06b1812248/vocab.txt: 100%|██████████| 110k/110k [00:00<00:00, 378kB/s]\n"
     ]
    }
   ],
   "source": [
    "snapshot_download(repo_id=\"shibing624/text2vec-base-chinese\")"
   ]
  },
  {
   "cell_type": "code",
   "execution_count": null,
   "metadata": {},
   "outputs": [],
   "source": [
    "snapshot_download(repo_id=\"\")"
   ]
  }
 ],
 "metadata": {
  "kernelspec": {
   "display_name": "embed",
   "language": "python",
   "name": "python3"
  },
  "language_info": {
   "codemirror_mode": {
    "name": "ipython",
    "version": 3
   },
   "file_extension": ".py",
   "mimetype": "text/x-python",
   "name": "python",
   "nbconvert_exporter": "python",
   "pygments_lexer": "ipython3",
   "version": "3.8.0"
  },
  "orig_nbformat": 4
 },
 "nbformat": 4,
 "nbformat_minor": 2
}
