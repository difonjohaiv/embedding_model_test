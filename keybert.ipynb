{
 "cells": [
  {
   "cell_type": "code",
   "execution_count": 1,
   "metadata": {},
   "outputs": [
    {
     "name": "stderr",
     "output_type": "stream",
     "text": [
      "h:\\Anaconda\\envs\\embed\\lib\\site-packages\\tqdm\\auto.py:21: TqdmWarning: IProgress not found. Please update jupyter and ipywidgets. See https://ipywidgets.readthedocs.io/en/stable/user_install.html\n",
      "  from .autonotebook import tqdm as notebook_tqdm\n"
     ]
    }
   ],
   "source": [
    "import pandas as pd\n",
    "from keybert import KeyBERT\n",
    "import jieba\n",
    "from tkitKeyBertBackend.TransformersBackend import TransformersBackend\n",
    "from transformers import BertTokenizer, BertModel"
   ]
  },
  {
   "cell_type": "code",
   "execution_count": 2,
   "metadata": {},
   "outputs": [],
   "source": [
    "fn = \"thucnews/thucnews.csv\"\n",
    "df = pd.read_csv(fn)"
   ]
  },
  {
   "cell_type": "code",
   "execution_count": 3,
   "metadata": {},
   "outputs": [],
   "source": [
    "doc = \"大家好，我是BBC英伦网苏平。自负、玩世不恭、性开放，一度都是中国80后的代名词。但他们内心深处，是否也渴望回归传统呢？就说刚刚过去的中秋节吧。有报道说，不少读大学和刚刚参加工作的80后，长大了、懂事了，第一次想起来回家陪父母赏月，过传统的中秋节。再比如，中式婚礼，是现在中国婚嫁论坛普遍谈论的潮流。凤冠霞帔取代婚纱礼服，同心锁取代金钻戒……而上海家庭教研究中心5月发布的一份研究称，常常被人们指责闪婚、闪离的80后，家庭价值观其实很传统：多数人仍然希望白头偕老。长话短说。英国的80后，也曾被称作“自我的一代”。但是现在，有迹象表明，相当大的一部分其实也渴望拥抱传统的价值观念，期待“昨日重现”。“刷美德”刚刚过去的周末，一则小调查结果，让我眼热、心动。“切尔西建房互助会”委托发起的一项民意调查显示，80后渴望全方位地享受家庭的亲情和快乐，坚信礼仪礼貌应该占据重要地位。接受调查的18-24岁的年轻人宁愿少看电视、少吃快餐，而是希望全家人能够有更多的机会坐在餐桌前一起吃饭(64%)，一起玩传统的桌面游戏(66%)，假日出外去郊游(71%)。更能让“老前辈”欣慰的可能要算，80后也把礼仪、礼貌看作最重要的价值观念之一，比如，在公共交通设施上给老弱病残孕让座、多说“请”和“谢谢”、孩子必须尊重大人等。80后认为人生中其他更重要的、有价值的东西还包括，更多的微笑、邻里之间互相帮助，孩子能够在街上自由玩耍……切尔西建房互助会客户服务部的负责人蒂姆·泰勒(TimTaylor)说，调查结果表明，今日英国人，希望能够“刷”珍藏已久的传统、美德。拉“家庭票”近来，重建立传统的家庭价值观念，也是政界的一个热点议题。随着大选的步步逼近，各政党也都希望以“家庭票”打动选民。在过去两星期刚刚结束的各政党年度会议上，英国首相、工党领导人布朗和保守党领袖卡梅伦在关键演讲中都强调了家庭以及传统价值观的重要性。布朗在讲话中突出刻画了那些“丧失了负责、公正这一基本英国价值观”的银行家和“不单单为了自己的利益，而是出于自律、自强、追求自我完善而工作”的普通英国人之间的区别。布朗说，后者这样的价值观念，才是英国家庭的中流砥柱，是英国人民的最佳本能，是“工党的灵魂”、“政府的使命”。对卡梅伦来说，家庭看起来更是至高无上，他在演讲中直言不讳地敦促英国重返传统的家庭观念。卡梅伦强调，英国人“必须改变生活方式”。他反问道，过去10多年来流行的“永不满足的消费欲、物欲，是否让我们更加幸福、更加满足呢”？卡梅伦说，“稳定、充满爱意”的家庭对孩子来说是最宝贵的。他还说，社会是由家庭构成的，而家庭是培养责任感的起点。卡梅伦希望全社会更加重视家庭。他反问道，“为什么我们不能把房子盖得大一点，让全家人都有足够的空间坐在一起吃饭呢”？个人贪婪？政客口出豪言壮语见怪不怪。那么，年轻人如此“恋旧”，原因何在呢？在接受切尔西建房互助会调查的80后中，四分之三以上的人(77%)认为，过去20年间，英国社会今不如昔。其中，77%将此归咎为学校对学生缺乏管教；74%的人认为，这是家庭破裂带来的后果；另外70%则说，个人的贪婪导致世风日下。对现实的失望，是否是让80后重审视价值观念的原因呢？中国常把80后称作“蜜罐里长大的一代”，没有经历过战乱的动荡、政治运动的冲击，从懂事开始，享受的就是经济的长期稳定增长、生活水准的日渐提高。英国80后的经历大同小异。童年时代几乎是在消费天堂中度过的(还记得80年代的爆炸发型、大砖头手机、夸张的西装吗？)，青少年时代享受的也是经济的长期增长、廉价信贷的铺天盖地。而现在，80后中年龄最大的就要到而立之年了。周围的朋友很多都开始谈婚论嫁。在这个节骨眼上，偏偏初次遭遇经济衰退、金融风暴的冲击。英格兰银行货币政策委员会的戴维·布朗奇福勒瓦尔(DavidBlanchflower)教授今年5月底曾说，“目前年龄在25岁以下的英国失业青年有近90万，而今年应届生一毕业，这一数字可能会突破100万。”工作前景黯淡，买房置业、养家糊口甚至养老金，都需要操心。转瞬间，80后的世界变得如此现实，收起玩世不恭的叛逆，重转向家庭、朋友，应该也是本能的驱使。少年强则国强虽然切尔西建房互助会的调查可能有局限，但我还真没有想到，这么多年轻气盛的80后也感觉世风日下。大概，上一代人的说教、抱怨，总算不再继续这个耳朵进、那个耳朵出了。让我最吃惊、也最感动的是，80后如此看重礼仪礼貌。礼仪礼貌是人与人之间交往必不可少的条件。从中，我们应该可以隐约看到一个人的教背景、成长环境，以及他的自律与追求。即使不提到构筑祥和社会的高度，对就业前景黯淡的80后，良好的礼仪礼貌，相信至少也能成为进入职场的一块敲门砖，职业发展的一个助动器。人言，少年强则国强。80后果真能将前辈辛苦构建的美德重发扬光大，应该是社会的一大幸事。\""
   ]
  },
  {
   "cell_type": "code",
   "execution_count": 4,
   "metadata": {},
   "outputs": [],
   "source": [
    "stopwords = [line.strip() for line in open('stopwords/stopwords.txt',encoding='UTF-8').readlines()]  "
   ]
  },
  {
   "cell_type": "code",
   "execution_count": 5,
   "metadata": {},
   "outputs": [
    {
     "data": {
      "text/plain": [
       "2315"
      ]
     },
     "execution_count": 5,
     "metadata": {},
     "output_type": "execute_result"
    }
   ],
   "source": [
    "len(stopwords)"
   ]
  },
  {
   "cell_type": "code",
   "execution_count": 6,
   "metadata": {},
   "outputs": [],
   "source": [
    "seg_list = jieba.cut(doc)"
   ]
  },
  {
   "cell_type": "code",
   "execution_count": 7,
   "metadata": {},
   "outputs": [
    {
     "name": "stderr",
     "output_type": "stream",
     "text": [
      "Building prefix dict from the default dictionary ...\n",
      "Loading model from cache C:\\Users\\ediso\\AppData\\Local\\Temp\\jieba.cache\n",
      "Loading model cost 0.401 seconds.\n",
      "Prefix dict has been built successfully.\n"
     ]
    }
   ],
   "source": [
    "result = []\n",
    "for word in seg_list:\n",
    "    # if word == ' ':\n",
    "    #     continue\n",
    "    if word not in stopwords:\n",
    "        result.append(word)"
   ]
  },
  {
   "cell_type": "code",
   "execution_count": 8,
   "metadata": {},
   "outputs": [],
   "source": [
    "word_list = \" \".join(result)"
   ]
  },
  {
   "cell_type": "code",
   "execution_count": 9,
   "metadata": {},
   "outputs": [
    {
     "name": "stderr",
     "output_type": "stream",
     "text": [
      "No sentence-transformers model found with name C:\\Users\\ediso/.cache\\torch\\sentence_transformers\\hfl_chinese-roberta-wwm-ext. Creating a new one with MEAN pooling.\n",
      "Some weights of the model checkpoint at C:\\Users\\ediso/.cache\\torch\\sentence_transformers\\hfl_chinese-roberta-wwm-ext were not used when initializing BertModel: ['cls.predictions.transform.dense.weight', 'cls.predictions.transform.LayerNorm.weight', 'cls.predictions.transform.LayerNorm.bias', 'cls.seq_relationship.bias', 'cls.predictions.bias', 'cls.predictions.decoder.weight', 'cls.predictions.transform.dense.bias', 'cls.seq_relationship.weight']\n",
      "- This IS expected if you are initializing BertModel from the checkpoint of a model trained on another task or with another architecture (e.g. initializing a BertForSequenceClassification model from a BertForPreTraining model).\n",
      "- This IS NOT expected if you are initializing BertModel from the checkpoint of a model that you expect to be exactly identical (initializing a BertForSequenceClassification model from a BertForSequenceClassification model).\n"
     ]
    }
   ],
   "source": [
    "kw_model = KeyBERT(model=\"hfl/chinese-roberta-wwm-ext\")"
   ]
  },
  {
   "cell_type": "code",
   "execution_count": 13,
   "metadata": {},
   "outputs": [
    {
     "data": {
      "text/plain": [
       "[('玩世不恭', 0.6457),\n",
       " ('世风日下', 0.6164),\n",
       " ('豪言壮语', 0.615),\n",
       " ('今不如昔', 0.6141),\n",
       " ('互助会', 0.6133),\n",
       " ('重要性', 0.613),\n",
       " ('白头偕老', 0.6097),\n",
       " ('老弱病残孕', 0.6095),\n",
       " ('价值观念', 0.6086),\n",
       " ('见怪不怪', 0.6042)]"
      ]
     },
     "execution_count": 13,
     "metadata": {},
     "output_type": "execute_result"
    }
   ],
   "source": [
    "kw_model.extract_keywords(word_list, keyphrase_ngram_range=(1,1), top_n=10, stop_words=None)"
   ]
  },
  {
   "cell_type": "code",
   "execution_count": 12,
   "metadata": {},
   "outputs": [
    {
     "data": {
      "text/html": [
       "<pre style=\"white-space:pre;overflow-x:auto;line-height:normal;font-family:Menlo,'DejaVu Sans Mono',consolas,'Courier New',monospace\">BBC 英伦 苏平 自负 <span style=\"color: #000000; text-decoration-color: #000000; background-color: #ffff00\">玩世不恭</span> 开放 一度 中国 80 代名词 内心深处 <span style=\"color: #000000; text-decoration-color: #000000; background-color: #ffff00\">渴望</span> 回归 传统 刚刚 中秋节 报道 大学 刚刚 参加 工作 \n",
       "80 长大 懂事 第一次 回家 父母 赏月 传统 中秋节 中式 婚礼 中国 婚嫁 论坛 谈论 潮流 凤冠霞帔 取代 婚纱 礼服 同心 取代\n",
       "钻戒 上海 家庭 研究 中心 发布 一份 研究 指责 闪婚 闪离 80 家庭 价值观 传统 希望 <span style=\"color: #000000; text-decoration-color: #000000; background-color: #ffff00\">白头偕老</span> 英国 80 <span style=\"color: #000000; text-decoration-color: #000000; background-color: #ffff00\">被称作</span> 自我 一代 \n",
       "迹象 一部分 <span style=\"color: #000000; text-decoration-color: #000000; background-color: #ffff00\">渴望</span> 拥抱 传统 <span style=\"color: #000000; text-decoration-color: #000000; background-color: #ffff00\">价值观念</span> 期待 昨日 重现 美德 刚刚 周末 调查结果 眼热 心动 切尔西 建房 <span style=\"color: #000000; text-decoration-color: #000000; background-color: #ffff00\">互助会</span> 委托 发起 \n",
       "一项 民意调查 显示 80 <span style=\"color: #000000; text-decoration-color: #000000; background-color: #ffff00\">渴望</span> 全方位 享受 家庭 亲情 快乐 坚信 礼仪 礼貌 占据 地位 接受 调查 18 24 年轻人 看电视 吃快餐\n",
       "希望 <span style=\"color: #000000; text-decoration-color: #000000; background-color: #ffff00\">全家人</span> 机会 坐在 餐桌 吃饭 64 传统 桌面 游戏 66 假日 出外 郊游 71 更能 老前辈 欣慰 要算 80 礼仪 礼貌 看作 \n",
       "<span style=\"color: #000000; text-decoration-color: #000000; background-color: #ffff00\">价值观念</span> 公共交通 设施 <span style=\"color: #000000; text-decoration-color: #000000; background-color: #ffff00\">老弱病残孕</span> 让座 谢谢 孩子 尊重 大人 80 人生 价值 东西 包括 微笑 邻里 之间 互相帮助 孩子 街上\n",
       "自由 玩耍 切尔西 建房 <span style=\"color: #000000; text-decoration-color: #000000; background-color: #ffff00\">互助会</span> 客户服务 负责人 蒂姆 泰勒 TimTaylor 调查 结果表明 今日 英国人 希望 珍藏 已久 传统 美德\n",
       "家庭 建立 传统 家庭 <span style=\"color: #000000; text-decoration-color: #000000; background-color: #ffff00\">价值观念</span> 政界 热点 议题 大选 步步 逼近 各政党 希望 家庭 打动 选民 星期 刚刚 结束 各政党 年度 \n",
       "会议 英国首相 工党 领导人 布朗 保守党 领袖 卡梅伦 关键 演讲 家庭 传统 价值观 <span style=\"color: #000000; text-decoration-color: #000000; background-color: #ffff00\">重要性</span> 布朗 在讲话中 刻画 丧失 负责 \n",
       "公正 这一 英国 价值观 银行家 利益 自律 自强 追求 自我完善 工作 英国人 之间 区别 布朗 <span style=\"color: #000000; text-decoration-color: #000000; background-color: #ffff00\">价值观念</span> 英国 家庭 中流砥柱 \n",
       "英国 人民 最佳 本能 工党 灵魂 政府 使命 对卡梅伦 家庭 更是 <span style=\"color: #000000; text-decoration-color: #000000; background-color: #ffff00\">至高无上</span> 演讲 直言不讳 敦促 英国 重返 传统 家庭 观念 \n",
       "卡梅伦 英国人 改变 生活 方式 问道 10 多年 流行 永不 消费 物欲 幸福 卡梅伦 稳定 充满 爱意 家庭 孩子 宝贵 社会 家庭 \n",
       "家庭 培养 责任感 起点 卡梅伦 希望 社会 重视 家庭 问道 房子 盖得 一点 <span style=\"color: #000000; text-decoration-color: #000000; background-color: #ffff00\">全家人</span> 足够 空间 坐在 吃饭 贪婪 政客 口出 \n",
       "<span style=\"color: #000000; text-decoration-color: #000000; background-color: #ffff00\">豪言壮语</span> <span style=\"color: #000000; text-decoration-color: #000000; background-color: #ffff00\">见怪不怪</span> 年轻人 恋旧 原因 何在 接受 切尔西 建房 <span style=\"color: #000000; text-decoration-color: #000000; background-color: #ffff00\">互助会</span> 调查 80 四分之三 77 20 年间 英国 社会 <span style=\"color: #000000; text-decoration-color: #000000; background-color: #ffff00\">今不如昔</span> 77 \n",
       "归咎 学校 学生 缺乏 管教 74 这是 家庭 破裂 带来 后果 70 贪婪 导致 <span style=\"color: #000000; text-decoration-color: #000000; background-color: #ffff00\">世风日下</span> 现实 失望 是否是 80 后重 审视 <span style=\"color: #000000; text-decoration-color: #000000; background-color: #ffff00\">价值观念</span> \n",
       "原因 中国 80 称作 蜜罐 长大 一代 经历 战乱 动荡 政治 运动 冲击 懂事 享受 经济 长期 稳定增长 生活水准 提高 英国 80 \n",
       "经历 大同小异 童年时代 消费 天堂 度过 记得 80 年代 爆炸 发型 砖头 手机 夸张 西装 青少年 时代 享受 经济 长期 增长 \n",
       "廉价 信贷 铺天盖地 80 年龄 而立之年 朋友 谈婚论嫁 节骨眼 初次 遭遇 经济衰退 金融风暴 冲击 英格兰银行 货币政策 \n",
       "委员会 戴维 布朗 奇福勒 瓦尔 DavidBlanchflower 教授 月底 年龄 25 英国 失业 青年 有近 90 应届生 毕业 这一 数字 突破 \n",
       "100 工作 前景 黯淡 买房 置业 养家糊口 养老金 操心 转瞬间 80 世界 变得 现实 收起 <span style=\"color: #000000; text-decoration-color: #000000; background-color: #ffff00\">玩世不恭</span> 叛逆 转向 家庭 朋友 本能 \n",
       "驱使 少年 强则 国强 切尔西 建房 <span style=\"color: #000000; text-decoration-color: #000000; background-color: #ffff00\">互助会</span> 调查 局限 想到 年轻气盛 80 感觉 <span style=\"color: #000000; text-decoration-color: #000000; background-color: #ffff00\">世风日下</span> <span style=\"color: #000000; text-decoration-color: #000000; background-color: #ffff00\">一代人</span> 说教 抱怨 总算 耳朵 耳朵 \n",
       "吃惊 感动 80 看重 礼仪 礼貌 礼仪 礼貌 之间 交往 必不可少 条件 隐约 背景 成长 环境 自律 追求 提到 构筑 祥和 社会 \n",
       "高度 就业 前景 黯淡 80 礼仪 礼貌 至少 职场 一块 敲门砖 职业 发展 助动器 少年 强则 国强 80 前辈 辛苦 构建 美德 \n",
       "发扬光大 社会 一大 幸事\n",
       "</pre>\n"
      ],
      "text/plain": [
       "BBC 英伦 苏平 自负 \u001b[30;48;2;255;255;0m玩世不恭\u001b[0m 开放 一度 中国 80 代名词 内心深处 \u001b[30;48;2;255;255;0m渴望\u001b[0m 回归 传统 刚刚 中秋节 报道 大学 刚刚 参加 工作 \n",
       "80 长大 懂事 第一次 回家 父母 赏月 传统 中秋节 中式 婚礼 中国 婚嫁 论坛 谈论 潮流 凤冠霞帔 取代 婚纱 礼服 同心 取代\n",
       "钻戒 上海 家庭 研究 中心 发布 一份 研究 指责 闪婚 闪离 80 家庭 价值观 传统 希望 \u001b[30;48;2;255;255;0m白头偕老\u001b[0m 英国 80 \u001b[30;48;2;255;255;0m被称作\u001b[0m 自我 一代 \n",
       "迹象 一部分 \u001b[30;48;2;255;255;0m渴望\u001b[0m 拥抱 传统 \u001b[30;48;2;255;255;0m价值观念\u001b[0m 期待 昨日 重现 美德 刚刚 周末 调查结果 眼热 心动 切尔西 建房 \u001b[30;48;2;255;255;0m互助会\u001b[0m 委托 发起 \n",
       "一项 民意调查 显示 80 \u001b[30;48;2;255;255;0m渴望\u001b[0m 全方位 享受 家庭 亲情 快乐 坚信 礼仪 礼貌 占据 地位 接受 调查 18 24 年轻人 看电视 吃快餐\n",
       "希望 \u001b[30;48;2;255;255;0m全家人\u001b[0m 机会 坐在 餐桌 吃饭 64 传统 桌面 游戏 66 假日 出外 郊游 71 更能 老前辈 欣慰 要算 80 礼仪 礼貌 看作 \n",
       "\u001b[30;48;2;255;255;0m价值观念\u001b[0m 公共交通 设施 \u001b[30;48;2;255;255;0m老弱病残孕\u001b[0m 让座 谢谢 孩子 尊重 大人 80 人生 价值 东西 包括 微笑 邻里 之间 互相帮助 孩子 街上\n",
       "自由 玩耍 切尔西 建房 \u001b[30;48;2;255;255;0m互助会\u001b[0m 客户服务 负责人 蒂姆 泰勒 TimTaylor 调查 结果表明 今日 英国人 希望 珍藏 已久 传统 美德\n",
       "家庭 建立 传统 家庭 \u001b[30;48;2;255;255;0m价值观念\u001b[0m 政界 热点 议题 大选 步步 逼近 各政党 希望 家庭 打动 选民 星期 刚刚 结束 各政党 年度 \n",
       "会议 英国首相 工党 领导人 布朗 保守党 领袖 卡梅伦 关键 演讲 家庭 传统 价值观 \u001b[30;48;2;255;255;0m重要性\u001b[0m 布朗 在讲话中 刻画 丧失 负责 \n",
       "公正 这一 英国 价值观 银行家 利益 自律 自强 追求 自我完善 工作 英国人 之间 区别 布朗 \u001b[30;48;2;255;255;0m价值观念\u001b[0m 英国 家庭 中流砥柱 \n",
       "英国 人民 最佳 本能 工党 灵魂 政府 使命 对卡梅伦 家庭 更是 \u001b[30;48;2;255;255;0m至高无上\u001b[0m 演讲 直言不讳 敦促 英国 重返 传统 家庭 观念 \n",
       "卡梅伦 英国人 改变 生活 方式 问道 10 多年 流行 永不 消费 物欲 幸福 卡梅伦 稳定 充满 爱意 家庭 孩子 宝贵 社会 家庭 \n",
       "家庭 培养 责任感 起点 卡梅伦 希望 社会 重视 家庭 问道 房子 盖得 一点 \u001b[30;48;2;255;255;0m全家人\u001b[0m 足够 空间 坐在 吃饭 贪婪 政客 口出 \n",
       "\u001b[30;48;2;255;255;0m豪言壮语\u001b[0m \u001b[30;48;2;255;255;0m见怪不怪\u001b[0m 年轻人 恋旧 原因 何在 接受 切尔西 建房 \u001b[30;48;2;255;255;0m互助会\u001b[0m 调查 80 四分之三 77 20 年间 英国 社会 \u001b[30;48;2;255;255;0m今不如昔\u001b[0m 77 \n",
       "归咎 学校 学生 缺乏 管教 74 这是 家庭 破裂 带来 后果 70 贪婪 导致 \u001b[30;48;2;255;255;0m世风日下\u001b[0m 现实 失望 是否是 80 后重 审视 \u001b[30;48;2;255;255;0m价值观念\u001b[0m \n",
       "原因 中国 80 称作 蜜罐 长大 一代 经历 战乱 动荡 政治 运动 冲击 懂事 享受 经济 长期 稳定增长 生活水准 提高 英国 80 \n",
       "经历 大同小异 童年时代 消费 天堂 度过 记得 80 年代 爆炸 发型 砖头 手机 夸张 西装 青少年 时代 享受 经济 长期 增长 \n",
       "廉价 信贷 铺天盖地 80 年龄 而立之年 朋友 谈婚论嫁 节骨眼 初次 遭遇 经济衰退 金融风暴 冲击 英格兰银行 货币政策 \n",
       "委员会 戴维 布朗 奇福勒 瓦尔 DavidBlanchflower 教授 月底 年龄 25 英国 失业 青年 有近 90 应届生 毕业 这一 数字 突破 \n",
       "100 工作 前景 黯淡 买房 置业 养家糊口 养老金 操心 转瞬间 80 世界 变得 现实 收起 \u001b[30;48;2;255;255;0m玩世不恭\u001b[0m 叛逆 转向 家庭 朋友 本能 \n",
       "驱使 少年 强则 国强 切尔西 建房 \u001b[30;48;2;255;255;0m互助会\u001b[0m 调查 局限 想到 年轻气盛 80 感觉 \u001b[30;48;2;255;255;0m世风日下\u001b[0m \u001b[30;48;2;255;255;0m一代人\u001b[0m 说教 抱怨 总算 耳朵 耳朵 \n",
       "吃惊 感动 80 看重 礼仪 礼貌 礼仪 礼貌 之间 交往 必不可少 条件 隐约 背景 成长 环境 自律 追求 提到 构筑 祥和 社会 \n",
       "高度 就业 前景 黯淡 80 礼仪 礼貌 至少 职场 一块 敲门砖 职业 发展 助动器 少年 强则 国强 80 前辈 辛苦 构建 美德 \n",
       "发扬光大 社会 一大 幸事\n"
      ]
     },
     "metadata": {},
     "output_type": "display_data"
    },
    {
     "data": {
      "text/plain": [
       "[('玩世不恭', 0.6457),\n",
       " ('世风日下', 0.6164),\n",
       " ('豪言壮语', 0.615),\n",
       " ('今不如昔', 0.6141),\n",
       " ('互助会', 0.6133),\n",
       " ('重要性', 0.613),\n",
       " ('白头偕老', 0.6097),\n",
       " ('老弱病残孕', 0.6095),\n",
       " ('价值观念', 0.6086),\n",
       " ('见怪不怪', 0.6042),\n",
       " ('被称作', 0.604),\n",
       " ('至高无上', 0.6005),\n",
       " ('渴望', 0.5992),\n",
       " ('全家人', 0.5991),\n",
       " ('一代人', 0.5989)]"
      ]
     },
     "execution_count": 12,
     "metadata": {},
     "output_type": "execute_result"
    }
   ],
   "source": [
    "kw_model.extract_keywords(word_list, top_n=15, highlight=True)"
   ]
  },
  {
   "cell_type": "code",
   "execution_count": null,
   "metadata": {},
   "outputs": [],
   "source": []
  }
 ],
 "metadata": {
  "kernelspec": {
   "display_name": "embed",
   "language": "python",
   "name": "python3"
  },
  "language_info": {
   "codemirror_mode": {
    "name": "ipython",
    "version": 3
   },
   "file_extension": ".py",
   "mimetype": "text/x-python",
   "name": "python",
   "nbconvert_exporter": "python",
   "pygments_lexer": "ipython3",
   "version": "3.8.1"
  },
  "orig_nbformat": 4
 },
 "nbformat": 4,
 "nbformat_minor": 2
}
