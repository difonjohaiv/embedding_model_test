{
 "cells": [
  {
   "cell_type": "code",
   "execution_count": 1,
   "metadata": {},
   "outputs": [],
   "source": [
    "import pandas as pd\n",
    "from tqdm import tqdm\n",
    "from utils import get_embedding\n",
    "import torch\n",
    "import pickle\n",
    "from sklearn.metrics.pairwise import cosine_similarity"
   ]
  },
  {
   "cell_type": "code",
   "execution_count": 2,
   "metadata": {},
   "outputs": [
    {
     "data": {
      "text/plain": [
       "Index(['index', 'label', 'title', 'content', 'entity', 'event',\n",
       "       'event_sentence', 'top_ten', 'train_test', 'keyword'],\n",
       "      dtype='object')"
      ]
     },
     "execution_count": 2,
     "metadata": {},
     "output_type": "execute_result"
    }
   ],
   "source": [
    "fn = \"thucnews/thucnews.csv\"\n",
    "df = pd.read_csv(fn)\n",
    "df.columns"
   ]
  },
  {
   "cell_type": "code",
   "execution_count": 3,
   "metadata": {},
   "outputs": [
    {
     "data": {
      "text/plain": [
       "(3163,)"
      ]
     },
     "execution_count": 3,
     "metadata": {},
     "output_type": "execute_result"
    }
   ],
   "source": [
    "events = df['top_ten']\n",
    "events.shape"
   ]
  },
  {
   "cell_type": "code",
   "execution_count": 4,
   "metadata": {},
   "outputs": [],
   "source": [
    "def get_each_event(event_str):\n",
    "    event_list = event_str.split(\"#\")\n",
    "    return event_list"
   ]
  },
  {
   "cell_type": "code",
   "execution_count": 5,
   "metadata": {},
   "outputs": [
    {
     "name": "stderr",
     "output_type": "stream",
     "text": [
      "d:\\app\\Anaconda3\\envs\\embed\\lib\\site-packages\\tqdm\\auto.py:21: TqdmWarning: IProgress not found. Please update jupyter and ipywidgets. See https://ipywidgets.readthedocs.io/en/stable/user_install.html\n",
      "  from .autonotebook import tqdm as notebook_tqdm\n",
      "No sentence-transformers model found with name models/text2vec-large-chinese. Creating a new one with MEAN pooling.\n"
     ]
    },
    {
     "name": "stdout",
     "output_type": "stream",
     "text": [
      "获取的嵌入模型是: text2vec-large\n"
     ]
    }
   ],
   "source": [
    "embedding = get_embedding()\n",
    "def embed_event(x):\n",
    "    x_embeddings = torch.zeros(10, 1024)\n",
    "    i = 0\n",
    "    for item in x:\n",
    "        event_embedding = torch.tensor(embedding.embed_query(item), dtype=float)\n",
    "        x_embeddings[i, :] = event_embedding\n",
    "        i = i + 1\n",
    "    return x_embeddings"
   ]
  },
  {
   "cell_type": "code",
   "execution_count": 6,
   "metadata": {},
   "outputs": [
    {
     "name": "stderr",
     "output_type": "stream",
     "text": [
      "  0%|          | 0/3163 [00:00<?, ?it/s]\n"
     ]
    },
    {
     "ename": "RuntimeError",
     "evalue": "The expanded size of the tensor (768) must match the existing size (1024) at non-singleton dimension 0.  Target sizes: [768].  Tensor sizes: [1024]",
     "output_type": "error",
     "traceback": [
      "\u001b[1;31m---------------------------------------------------------------------------\u001b[0m",
      "\u001b[1;31mRuntimeError\u001b[0m                              Traceback (most recent call last)",
      "Cell \u001b[1;32mIn[6], line 5\u001b[0m\n\u001b[0;32m      3\u001b[0m \u001b[39mfor\u001b[39;00m item \u001b[39min\u001b[39;00m tqdm(events):\n\u001b[0;32m      4\u001b[0m     event_list \u001b[39m=\u001b[39m get_each_event(item)\n\u001b[1;32m----> 5\u001b[0m     evt_embedding_list\u001b[39m.\u001b[39mappend(embed_event(event_list))\n\u001b[0;32m      6\u001b[0m \u001b[39mprint\u001b[39m(\u001b[39mlen\u001b[39m(evt_embedding_list))\n",
      "Cell \u001b[1;32mIn[5], line 7\u001b[0m, in \u001b[0;36membed_event\u001b[1;34m(x)\u001b[0m\n\u001b[0;32m      5\u001b[0m \u001b[39mfor\u001b[39;00m item \u001b[39min\u001b[39;00m x:\n\u001b[0;32m      6\u001b[0m     event_embedding \u001b[39m=\u001b[39m torch\u001b[39m.\u001b[39mtensor(embedding\u001b[39m.\u001b[39membed_query(item), dtype\u001b[39m=\u001b[39m\u001b[39mfloat\u001b[39m)\n\u001b[1;32m----> 7\u001b[0m     x_embeddings[i, :] \u001b[39m=\u001b[39m event_embedding\n\u001b[0;32m      8\u001b[0m     i \u001b[39m=\u001b[39m i \u001b[39m+\u001b[39m \u001b[39m1\u001b[39m\n\u001b[0;32m      9\u001b[0m \u001b[39mreturn\u001b[39;00m x_embeddings\n",
      "\u001b[1;31mRuntimeError\u001b[0m: The expanded size of the tensor (768) must match the existing size (1024) at non-singleton dimension 0.  Target sizes: [768].  Tensor sizes: [1024]"
     ]
    }
   ],
   "source": [
    "with torch.no_grad():\n",
    "    evt_embedding_list = []\n",
    "    for item in tqdm(events):\n",
    "        event_list = get_each_event(item)\n",
    "        evt_embedding_list.append(embed_event(event_list))\n",
    "    print(len(evt_embedding_list))"
   ]
  },
  {
   "cell_type": "code",
   "execution_count": null,
   "metadata": {},
   "outputs": [],
   "source": [
    "print(len(evt_embedding_list))"
   ]
  },
  {
   "cell_type": "code",
   "execution_count": null,
   "metadata": {},
   "outputs": [],
   "source": [
    "evt_embedding_list[0].shape"
   ]
  },
  {
   "cell_type": "code",
   "execution_count": null,
   "metadata": {},
   "outputs": [],
   "source": [
    "with open(\"thucnews/t2v_large/pkl/event_embeddings_large.pickle\", \"wb\") as file:\n",
    "    pickle.dump(evt_embedding_list, file=file)"
   ]
  },
  {
   "cell_type": "code",
   "execution_count": null,
   "metadata": {},
   "outputs": [],
   "source": [
    "with open(\"thucnews/t2v_large/pkl/event_embeddings_large.pickle\", \"rb\") as file:\n",
    "    evt_embedding_list = pickle.load(file=file)"
   ]
  },
  {
   "cell_type": "code",
   "execution_count": null,
   "metadata": {},
   "outputs": [],
   "source": [
    "len(evt_embedding_list)"
   ]
  },
  {
   "cell_type": "code",
   "execution_count": null,
   "metadata": {},
   "outputs": [],
   "source": [
    "s = cosine_similarity(evt_embedding_list[33], evt_embedding_list[37])"
   ]
  },
  {
   "cell_type": "code",
   "execution_count": null,
   "metadata": {},
   "outputs": [],
   "source": []
  }
 ],
 "metadata": {
  "kernelspec": {
   "display_name": "embed",
   "language": "python",
   "name": "python3"
  },
  "language_info": {
   "codemirror_mode": {
    "name": "ipython",
    "version": 3
   },
   "file_extension": ".py",
   "mimetype": "text/x-python",
   "name": "python",
   "nbconvert_exporter": "python",
   "pygments_lexer": "ipython3",
   "version": "3.8.1"
  },
  "orig_nbformat": 4
 },
 "nbformat": 4,
 "nbformat_minor": 2
}
